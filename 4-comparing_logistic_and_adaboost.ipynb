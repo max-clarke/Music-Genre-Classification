{
 "cells": [
  {
   "cell_type": "code",
   "execution_count": 1,
   "metadata": {},
   "outputs": [],
   "source": [
    "%matplotlib inline\n",
    "\n",
    "import pickle\n",
    "import os\n",
    "\n",
    "import numpy as np\n",
    "import pandas as pd\n",
    "import seaborn as sns\n",
    "import matplotlib.pyplot as plt\n",
    "import structure"
   ]
  },
  {
   "cell_type": "code",
   "execution_count": 2,
   "metadata": {},
   "outputs": [],
   "source": [
    "##################################\n",
    "# if you want to load the object #\n",
    "##################################\n",
    "\n",
    "try:\n",
    "    PATH = '/Users/maxwellclarke/Documents/data/fma_metadata/segmented'\n",
    "    os.chdir(PATH)\n",
    "except:\n",
    "    PATH = r'C:\\Users\\james\\Documents\\data\\fma_metadata\\segmented'\n",
    "    os.chdir(PATH)\n",
    "    \n",
    "with open('data.pickle', 'rb') as f:\n",
    "    data = pickle.load(f)\n",
    "    \n",
    "dfs = data.segmented_dfs # already sorted data"
   ]
  },
  {
   "cell_type": "code",
   "execution_count": 3,
   "metadata": {},
   "outputs": [
    {
     "data": {
      "text/plain": [
       "dict_keys(['tracks', 'genres', 'features', 'echonest'])"
      ]
     },
     "execution_count": 3,
     "metadata": {},
     "output_type": "execute_result"
    }
   ],
   "source": [
    "dfs.keys()"
   ]
  },
  {
   "cell_type": "code",
   "execution_count": 4,
   "metadata": {},
   "outputs": [
    {
     "data": {
      "text/plain": [
       "77"
      ]
     },
     "execution_count": 4,
     "metadata": {},
     "output_type": "execute_result"
    }
   ],
   "source": [
    "len(dfs['features'].keys())"
   ]
  },
  {
   "cell_type": "code",
   "execution_count": 5,
   "metadata": {},
   "outputs": [
    {
     "data": {
      "text/plain": [
       "genre_top\n",
       "Rock                   14182\n",
       "Experimental           10608\n",
       "Electronic              9371\n",
       "Hip-Hop                 3552\n",
       "Folk                    2803\n",
       "Pop                     2332\n",
       "Instrumental            2079\n",
       "International           1389\n",
       "Classical               1230\n",
       "Jazz                     571\n",
       "Old-Time / Historic      554\n",
       "Spoken                   423\n",
       "Country                  194\n",
       "Soul-RnB                 175\n",
       "Blues                    110\n",
       "Easy Listening            24\n",
       "Name: title, dtype: int64"
      ]
     },
     "execution_count": 5,
     "metadata": {},
     "output_type": "execute_result"
    }
   ],
   "source": [
    "data.tracks.track.groupby('genre_top').count().sort_values('title', ascending=False)['title']"
   ]
  },
  {
   "cell_type": "markdown",
   "metadata": {},
   "source": [
    "### Genres to include\n",
    "\n",
    "- Rock\n",
    "- Electronic\n",
    "- Hip-Hop\n",
    "- Folk\n",
    "- Classical"
   ]
  },
  {
   "cell_type": "code",
   "execution_count": 6,
   "metadata": {},
   "outputs": [
    {
     "data": {
      "text/plain": [
       "dict_keys(['spectral_contrast__std', 'spectral_contrast__skew', 'spectral_contrast__mean', 'spectral_contrast__kurtosis', 'spectral_contrast__median', 'spectral_contrast__min', 'spectral_contrast__max', 'tonnetz__std', 'tonnetz__skew', 'tonnetz__mean', 'tonnetz__kurtosis', 'tonnetz__median', 'tonnetz__min', 'tonnetz__max', 'chroma_stft__std', 'chroma_stft__skew', 'chroma_stft__mean', 'chroma_stft__kurtosis', 'chroma_stft__median', 'chroma_stft__min', 'chroma_stft__max', 'mfcc__std', 'mfcc__skew', 'mfcc__mean', 'mfcc__kurtosis', 'mfcc__median', 'mfcc__min', 'mfcc__max', 'spectral_rolloff__std', 'spectral_rolloff__skew', 'spectral_rolloff__mean', 'spectral_rolloff__kurtosis', 'spectral_rolloff__median', 'spectral_rolloff__min', 'spectral_rolloff__max', 'spectral_bandwidth__std', 'spectral_bandwidth__skew', 'spectral_bandwidth__mean', 'spectral_bandwidth__kurtosis', 'spectral_bandwidth__median', 'spectral_bandwidth__min', 'spectral_bandwidth__max', 'spectral_centroid__std', 'spectral_centroid__skew', 'spectral_centroid__mean', 'spectral_centroid__kurtosis', 'spectral_centroid__median', 'spectral_centroid__min', 'spectral_centroid__max', 'rmse__std', 'rmse__skew', 'rmse__mean', 'rmse__kurtosis', 'rmse__median', 'rmse__min', 'rmse__max', 'zcr__std', 'zcr__skew', 'zcr__mean', 'zcr__kurtosis', 'zcr__median', 'zcr__min', 'zcr__max', 'chroma_cqt__std', 'chroma_cqt__skew', 'chroma_cqt__mean', 'chroma_cqt__kurtosis', 'chroma_cqt__median', 'chroma_cqt__min', 'chroma_cqt__max', 'chroma_cens__std', 'chroma_cens__skew', 'chroma_cens__mean', 'chroma_cens__kurtosis', 'chroma_cens__median', 'chroma_cens__min', 'chroma_cens__max'])"
      ]
     },
     "execution_count": 6,
     "metadata": {},
     "output_type": "execute_result"
    }
   ],
   "source": [
    "dfs['features'].keys()"
   ]
  },
  {
   "cell_type": "markdown",
   "metadata": {},
   "source": [
    "Each of the above contain summary statistical information derived from the audio file. For now, I'll only work with mean and standard deviation for category."
   ]
  },
  {
   "cell_type": "code",
   "execution_count": 7,
   "metadata": {},
   "outputs": [
    {
     "name": "stdout",
     "output_type": "stream",
     "text": [
      "(91214, 149)\n",
      "(25019, 149)\n"
     ]
    }
   ],
   "source": [
    "import re\n",
    "\n",
    "r = re.compile('.*mean')\n",
    "q = re.compile('.*std')\n",
    "\n",
    "to_concat = [df for key, df in dfs['features'].items() if (bool(r.match(key)) | bool(q.match(key)))] # means and stds dfs\n",
    "\n",
    "df = pd.concat(to_concat + [data.tracks.track[['genre_top']]], axis=1, join='inner')\n",
    "\n",
    "mask = df['genre_top'].isin(['Rock', 'Electronic', 'Hip-Hop', 'Folk', 'Classical'])\n",
    "\n",
    "print(df.shape)\n",
    "df = df[mask]\n",
    "print(df.shape)\n"
   ]
  },
  {
   "cell_type": "markdown",
   "metadata": {},
   "source": [
    "## Let's see how logistic regression performs"
   ]
  },
  {
   "cell_type": "code",
   "execution_count": 8,
   "metadata": {},
   "outputs": [],
   "source": [
    "from sklearn.linear_model import LogisticRegression\n",
    "from sklearn.model_selection import StratifiedShuffleSplit\n",
    "from sklearn.model_selection import train_test_split\n",
    "\n",
    "\n",
    "X = df.drop('genre_top', axis=1)\n",
    "y = df['genre_top']\n",
    "\n",
    "X_train, X_test, y_train, y_test = train_test_split(X, y, random_state=42, test_size=.2, stratify=y)"
   ]
  },
  {
   "cell_type": "markdown",
   "metadata": {},
   "source": [
    "#### Define functions to evaluate our models"
   ]
  },
  {
   "cell_type": "code",
   "execution_count": 44,
   "metadata": {},
   "outputs": [],
   "source": [
    "from copy import deepcopy\n",
    "from sklearn.metrics import roc_curve, roc_auc_score\n",
    "from sklearn.model_selection import StratifiedKFold\n",
    "from sklearn.metrics import accuracy_score\n",
    "\n",
    "def test_roc(X, y, est):\n",
    "    \"\"\"Cross validates and evaluates multi-class model.\"\"\"\n",
    "    genres = set(y)\n",
    "    X = X.values\n",
    "    y = y\n",
    "    \n",
    "    skf = StratifiedKFold(n_splits=5, random_state=42)\n",
    "    \n",
    "    roc = {\n",
    "        'test_auc': [],\n",
    "        'train_auc': [],\n",
    "        'test_curve': [],\n",
    "        'train_curve': []\n",
    "    }\n",
    "    \n",
    "    genre_dict = {genre: deepcopy(roc) for genre in genres}\n",
    "    \n",
    "    genre_code = {\n",
    "        'Classical': [1,0,0,0,0],\n",
    "        'Electronic': [0,1,0,0,0],\n",
    "        'Folk': [0,0,1,0,0],\n",
    "        'Hip-Hop': [0,0,0,1,0],\n",
    "        'Rock': [0,0,0,0,1]\n",
    "    }\n",
    "\n",
    "    for genre in genres:\n",
    "        targets = ((pd.get_dummies(y).values == genre_code[genre]).sum(axis=1) > 3) # hacky but it works \n",
    "        \n",
    "        for tr_ix, te_ix in skf.split(X, targets):\n",
    "\n",
    "            X_train, X_test = X[tr_ix], X[te_ix]\n",
    "            y_train, y_test = targets[tr_ix], targets[te_ix]\n",
    "\n",
    "            est.fit(X_train, y_train)\n",
    "            y_preds = est.predict(X_test)\n",
    "            y_preds_proba_test = est.predict_proba(X_test)\n",
    "            y_preds_proba_train = est.predict_proba(X_train)\n",
    "\n",
    "            train_score = roc_auc_score(y_train, y_preds_proba_train[:, 1])\n",
    "            test_score = roc_auc_score(y_test, y_preds_proba_test[:, 1])\n",
    "            genre_dict[genre]['train_auc'].append(train_score)\n",
    "            genre_dict[genre]['test_auc'].append(test_score)\n",
    "    \n",
    "    return genre_dict"
   ]
  },
  {
   "cell_type": "code",
   "execution_count": 46,
   "metadata": {},
   "outputs": [],
   "source": [
    "from sklearn.preprocessing import StandardScaler\n",
    "from sklearn.pipeline import Pipeline\n",
    "\n",
    "pip = Pipeline([\n",
    "    ('std_scl', StandardScaler()),\n",
    "    ('lr', LogisticRegression(solver='lbfgs', max_iter=1000))\n",
    "])\n",
    "\n",
    "scores = test_roc(X_train, y_train, pip)"
   ]
  },
  {
   "cell_type": "code",
   "execution_count": 47,
   "metadata": {},
   "outputs": [
    {
     "name": "stdout",
     "output_type": "stream",
     "text": [
      "Folk :\t\t 0.9204\n",
      "Classical :\t 0.9894\n",
      "Electronic :\t 0.9095\n",
      "Rock :\t\t 0.9363\n",
      "Hip-Hop :\t 0.9218\n"
     ]
    }
   ],
   "source": [
    "def get_results(scores):\n",
    "    for genre in set(y):\n",
    "        if len(genre) > 5:\n",
    "            print(genre, ':\\t', np.round(np.mean(scores[genre]['train_auc']),4))\n",
    "        else:\n",
    "            print(genre, ':\\t\\t', np.round(np.mean(scores[genre]['train_auc']),4))\n",
    "        \n",
    "get_results(scores)"
   ]
  },
  {
   "cell_type": "markdown",
   "metadata": {},
   "source": [
    "### AdaBoost"
   ]
  },
  {
   "cell_type": "code",
   "execution_count": 17,
   "metadata": {},
   "outputs": [],
   "source": [
    "from sklearn.ensemble import AdaBoostClassifier\n",
    "\n",
    "pip = Pipeline([\n",
    "    ('std_scl', StandardScaler()),\n",
    "    ('abc', AdaBoostClassifier())\n",
    "])\n",
    "\n",
    "socres = test_roc(X_train, y_train, pip)"
   ]
  },
  {
   "cell_type": "code",
   "execution_count": 19,
   "metadata": {},
   "outputs": [
    {
     "name": "stdout",
     "output_type": "stream",
     "text": [
      "Classical :\t 0.9958\n",
      "Folk :\t\t 0.9418\n",
      "Rock :\t\t 0.9309\n",
      "Electronic :\t 0.9028\n",
      "Hip-Hop :\t 0.9256\n"
     ]
    }
   ],
   "source": [
    "get_results(socres)"
   ]
  },
  {
   "cell_type": "code",
   "execution_count": 131,
   "metadata": {},
   "outputs": [],
   "source": [
    "mask = (simple_feats['genre_top'].isin(['Rock', 'Electronic']))"
   ]
  },
  {
   "cell_type": "code",
   "execution_count": 132,
   "metadata": {},
   "outputs": [],
   "source": [
    "simple_feats = simple_feats[mask]"
   ]
  },
  {
   "cell_type": "code",
   "execution_count": 133,
   "metadata": {},
   "outputs": [
    {
     "name": "stderr",
     "output_type": "stream",
     "text": [
      "/anaconda3/lib/python3.7/site-packages/sklearn/linear_model/logistic.py:433: FutureWarning: Default solver will be changed to 'lbfgs' in 0.22. Specify a solver to silence this warning.\n",
      "  FutureWarning)\n"
     ]
    },
    {
     "data": {
      "text/plain": [
       "LogisticRegression(C=1.0, class_weight=None, dual=False, fit_intercept=True,\n",
       "          intercept_scaling=1, max_iter=100, multi_class='warn',\n",
       "          n_jobs=None, penalty='l2', random_state=None, solver='warn',\n",
       "          tol=0.0001, verbose=0, warm_start=False)"
      ]
     },
     "execution_count": 133,
     "metadata": {},
     "output_type": "execute_result"
    }
   ],
   "source": [
    "lr = LogisticRegression()\n",
    "lr.fit(simple_feats.drop('genre_top', axis=1), simple_feats['genre_top'])"
   ]
  },
  {
   "cell_type": "code",
   "execution_count": 134,
   "metadata": {},
   "outputs": [],
   "source": [
    "with open('simple_model.pickle', 'wb') as f:\n",
    "    pickle.dump(lr, f)"
   ]
  }
 ],
 "metadata": {
  "kernelspec": {
   "display_name": "Python 3",
   "language": "python",
   "name": "python3"
  },
  "language_info": {
   "codemirror_mode": {
    "name": "ipython",
    "version": 3
   },
   "file_extension": ".py",
   "mimetype": "text/x-python",
   "name": "python",
   "nbconvert_exporter": "python",
   "pygments_lexer": "ipython3",
   "version": "3.7.1"
  }
 },
 "nbformat": 4,
 "nbformat_minor": 2
}
