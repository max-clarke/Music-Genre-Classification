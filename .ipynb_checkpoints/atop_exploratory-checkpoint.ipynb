{
 "cells": [
  {
   "cell_type": "code",
   "execution_count": 8,
   "metadata": {},
   "outputs": [
    {
     "name": "stdout",
     "output_type": "stream",
     "text": [
      "C:\\Users\\james\\OneDrive\\ds\\metis\\metisgh\\data\\atop_v4.01_data__csv_\\ATOP V4.01 Data (csv)\n",
      "['ATOP V4.01 Data NNA (csv)', 'atop4_01a.csv', 'atop4_01aph.csv', 'atop4_01ddyr.csv', 'atop4_01dy.csv', 'atop4_01m.csv', 'atop4_01sy.csv', 'ATOPcodebookV4.pdf']\n",
      "   atopid  cowid  cow4id  member  cowsys  yrent  moent  dayent  yrexit  \\\n",
      "0    1005    NaN     NaN     200       0   1815      1     3.0    1815   \n",
      "1    1005    NaN     NaN     220       0   1815      1     3.0    1815   \n",
      "2    1005    NaN     NaN     300       0   1815      1     3.0    1815   \n",
      "3    1005    NaN     NaN     245       0   1815      1    13.0    1815   \n",
      "4    1005    NaN     NaN     240       0   1815      1    19.0    1815   \n",
      "\n",
      "   moexit  ...  nomicoop  conres  agprois  conmen  ecaid  interv  source  \\\n",
      "0       2  ...       0.0     0.0      0.0     0.0    0.0     0.0       1   \n",
      "1       2  ...       0.0     0.0      0.0     0.0    0.0     0.0       1   \n",
      "2       2  ...       0.0     0.0      0.0     0.0    0.0     0.0       1   \n",
      "3       2  ...       0.0     0.0      0.0     0.0    0.0     0.0       1   \n",
      "4       2  ...       0.0     0.0      0.0     0.0    0.0     0.0       1   \n",
      "\n",
      "   new4  rev4  version  \n",
      "0     0     0     4.01  \n",
      "1     0     0     4.01  \n",
      "2     0     0     4.01  \n",
      "3     0     0     4.01  \n",
      "4     0     0     4.01  \n",
      "\n",
      "[5 rows x 105 columns]\n"
     ]
    }
   ],
   "source": [
    "import pandas as pd\n",
    "import os\n",
    "\n",
    "PATH =  'C:/Users/james/OneDrive/ds/metis/metisgh/data/atop_v4.01_data__csv_/ATOP V4.01 Data (csv)'\n",
    "FILE = \"atop4_01m.csv\"\n",
    "os.chdir(PATH)\n",
    "print(os.getcwd())\n",
    "print(os.listdir())\n",
    "df = pd.read_csv(FILE)\n",
    "print(df.head())"
   ]
  },
  {
   "cell_type": "code",
   "execution_count": 35,
   "metadata": {},
   "outputs": [],
   "source": [
    "feats = ['atopid', 'member', 'bilat', 'wartime', 'pubsecr', 'speclgth', 'term']"
   ]
  },
  {
   "cell_type": "code",
   "execution_count": 36,
   "metadata": {},
   "outputs": [],
   "source": [
    "df_toy = df[feats].dropna()"
   ]
  },
  {
   "cell_type": "code",
   "execution_count": 37,
   "metadata": {},
   "outputs": [
    {
     "data": {
      "text/plain": [
       "(2353, 7)"
      ]
     },
     "execution_count": 37,
     "metadata": {},
     "output_type": "execute_result"
    }
   ],
   "source": [
    "df_toy.shape"
   ]
  },
  {
   "cell_type": "code",
   "execution_count": 38,
   "metadata": {},
   "outputs": [],
   "source": [
    "X = df_toy.drop(columns='term')\n",
    "y = df_toy.term"
   ]
  },
  {
   "cell_type": "code",
   "execution_count": 39,
   "metadata": {},
   "outputs": [
    {
     "data": {
      "text/plain": [
       "array([1, 3, 2, 0], dtype=int64)"
      ]
     },
     "execution_count": 39,
     "metadata": {},
     "output_type": "execute_result"
    }
   ],
   "source": [
    "y.unique()"
   ]
  },
  {
   "cell_type": "markdown",
   "metadata": {},
   "source": [
    "- 0: For alliances that remain in effect as of December 31, 2016, and for alliances that are censored due to the loss of independence of one or more alliance members in action unrelated to the alliance\n",
    "\n",
    "- 1: If the alliance ends when its provisions are fulfilled (either because its specified term has been completed or the goals of the alliance have been accomplished)\n",
    "\n",
    "- 2: If the alliance ends due to violation of provisions by one or more members, including willful abrogation before the scheduled termination date\n",
    "\n",
    "- 3:  If the alliance ends when some or all of the members negotiate a new relationship"
   ]
  },
  {
   "cell_type": "markdown",
   "metadata": {},
   "source": [
    "## Thoughts so far\n",
    "\n",
    "I'm using a member level dataset here. The dataset isn't that large, which makes it harder to use some classification algorithms. I'm not sure what my classification task should even be, or what features I would make sense. The practical application of this project also seems somewhat suspect. Tomorrow, I'd like to get into the million song dataset. I feel like since I'm a little bit behind, a more straightforward project would make more sense. I already demonstrated webscraping skills with the last project, so a nice clean dataset is not necessarily a bad thing."
   ]
  },
  {
   "cell_type": "code",
   "execution_count": null,
   "metadata": {},
   "outputs": [],
   "source": []
  }
 ],
 "metadata": {
  "kernelspec": {
   "display_name": "Python 3",
   "language": "python",
   "name": "python3"
  },
  "language_info": {
   "codemirror_mode": {
    "name": "ipython",
    "version": 3
   },
   "file_extension": ".py",
   "mimetype": "text/x-python",
   "name": "python",
   "nbconvert_exporter": "python",
   "pygments_lexer": "ipython3",
   "version": "3.6.7"
  }
 },
 "nbformat": 4,
 "nbformat_minor": 2
}
