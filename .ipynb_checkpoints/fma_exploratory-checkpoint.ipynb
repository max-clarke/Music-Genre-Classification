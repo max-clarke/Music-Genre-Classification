{
 "cells": [
  {
   "cell_type": "markdown",
   "metadata": {},
   "source": [
    "https://github.com/mdeff/fma"
   ]
  },
  {
   "cell_type": "code",
   "execution_count": null,
   "metadata": {},
   "outputs": [],
   "source": []
  },
  {
   "cell_type": "code",
   "execution_count": 1,
   "metadata": {},
   "outputs": [],
   "source": [
    "import os\n",
    "import pandas as pd\n",
    "import sys\n",
    "import seaborn as sns"
   ]
  },
  {
   "cell_type": "code",
   "execution_count": 2,
   "metadata": {},
   "outputs": [],
   "source": [
    "PATH = r'/home/max/Documents/data/fma_metadata'\n",
    "\n",
    "os.chdir(PATH)\n",
    "\n",
    "class Data():\n",
    "    \n",
    "    def __init__(self, nrows=5000):\n",
    "        self.tracks = pd.read_csv('tracks.csv', header=[0,1], nrows=nrows)\n",
    "        self.genres = pd.read_csv('genres.csv', header=[0], nrows=nrows)\n",
    "        self.features = pd.read_csv('features.csv', header=[0,1,2], nrows=nrows)\n",
    "        self.echonest = pd.read_csv('echonest.csv', header=[0,1,2], nrows=nrows)\n",
    "        \n",
    "        # clean up track index and columns\n",
    "        self.tracks = self.tracks.drop(0)\n",
    "        ix = self.tracks['Unnamed: 0_level_0']['Unnamed: 0_level_1'].rename('track_id')\n",
    "        self.tracks = self.tracks.set_index(ix).drop('Unnamed: 0_level_0', axis=1)\n",
    "        \n",
    "        # clean genre\n",
    "        self.genres = self.genres.set_index('genre_id')\n",
    "        \n",
    "        # clean features\n",
    "        ix = self.features.feature.statistics['number'].rename('track_id')\n",
    "        self.features = self.features.set_index(ix).drop('feature', axis=1).drop('track_id')\n",
    "        \n",
    "        # clean echonest\n",
    "        ix = self.echonest['Unnamed: 0_level_0']['Unnamed: 0_level_1']['Unnamed: 0_level_2'].rename('track_id')\n",
    "        self.echonest = self.echonest.set_index(ix).drop('Unnamed: 0_level_0', axis=1).drop('track_id')\n",
    "        \n",
    "    def segment(self):\n",
    "        \n",
    "        # segmenting tracks df\n",
    "        tracks_groups = {}\n",
    "        \n",
    "        for group in self.tracks.columns.levels[0][1:]:\n",
    "            tracks_groups[group] = self.tracks[group]\n",
    "        \n",
    "        # segmenting features df\n",
    "        groups = set(group[0] for group in self.features.columns)\n",
    "        features_groups = {group: self.features[group] for group in groups} \n",
    "        \n",
    "        features_subgroups = {}\n",
    "\n",
    "        for key in features_groups.keys():\n",
    "            sub_groups = set(sub_group[0] for sub_group in features_groups[key].columns)\n",
    "\n",
    "            for sub_group in sub_groups:\n",
    "                features_subgroups[key + '__' + sub_group] = features_groups[key][sub_group]\n",
    "                \n",
    "        # segmenting echonest df\n",
    "        echonest_groups = {group: self.echonest['echonest'][group] for group in self.echonest.columns.levels[1][1:]}\n",
    "\n",
    "        self.segmented_dfs = {\n",
    "            'tracks': tracks_groups,\n",
    "            'genres': self.genres,\n",
    "            'features': features_subgroups,\n",
    "            'echonest': echonest_groups\n",
    "        }\n",
    "        \n",
    "    \n",
    "# write all the segmented dataframes to csv's\n",
    "def segment2csv(d): \n",
    "\n",
    "    for key, val in d.items():\n",
    "        if isinstance(val, dict):\n",
    "            segment2csv(val)\n",
    "        else:\n",
    "            val.to_csv(key + '.csv')\n",
    "    \n"
   ]
  },
  {
   "cell_type": "code",
   "execution_count": 3,
   "metadata": {},
   "outputs": [
    {
     "name": "stderr",
     "output_type": "stream",
     "text": [
      "/home/max/anaconda3/lib/python3.7/site-packages/IPython/core/interactiveshell.py:3185: DtypeWarning: Columns (0) have mixed types. Specify dtype option on import or set low_memory=False.\n",
      "  if (yield from self.run_code(code, result)):\n",
      "/home/max/anaconda3/lib/python3.7/site-packages/pandas/core/generic.py:3111: PerformanceWarning: dropping on a non-lexsorted multi-index without a level parameter may impact performance.\n",
      "  obj = obj._drop_axis(labels, axis, level=level, errors=errors)\n"
     ]
    }
   ],
   "source": [
    "data = Data(nrows=None)"
   ]
  },
  {
   "cell_type": "code",
   "execution_count": 6,
   "metadata": {},
   "outputs": [],
   "source": [
    "try:\n",
    "    os.mkdir('segmented')\n",
    "except FileExistsError:\n",
    "    pass\n",
    "\n",
    "os.chdir('segmented')"
   ]
  },
  {
   "cell_type": "code",
   "execution_count": 7,
   "metadata": {},
   "outputs": [],
   "source": [
    "data.segment()\n",
    "segment2csv(data.segmented_dfs)"
   ]
  },
  {
   "cell_type": "code",
   "execution_count": 10,
   "metadata": {},
   "outputs": [
    {
     "data": {
      "text/plain": [
       "87"
      ]
     },
     "execution_count": 10,
     "metadata": {},
     "output_type": "execute_result"
    }
   ],
   "source": [
    "len(os.listdir())"
   ]
  },
  {
   "cell_type": "markdown",
   "metadata": {},
   "source": [
    "### GOAL: split dataframe into smaller dataframese to avoid multi-index\n",
    "\n",
    "- tracks_groups := dictionary of groups in tracks DF\n",
    "- genre is already one group\n",
    "- features_subgroups := split up to subgroup level. Each subgroup is part of one of several larger groups. These are summary statistics of the raw audio data.\n",
    "    - spectral_centroid\n",
    "    - chroma_stft\n",
    "    - rmse\n",
    "    - spectral_contrast\n",
    "    - tonnetz\n",
    "    - spectral_rolloff\n",
    "    - spectral_bandwidth\n",
    "    - chroma_cqt\n",
    "    - zcr\n",
    "    - chroma_cens\n",
    "    - mfcc\n",
    "    - I need to do some research to understand what the above categories mean\n",
    "    "
   ]
  },
  {
   "cell_type": "code",
   "execution_count": 110,
   "metadata": {},
   "outputs": [],
   "source": [
    "# first up is tracks"
   ]
  },
  {
   "cell_type": "code",
   "execution_count": 44,
   "metadata": {},
   "outputs": [],
   "source": [
    "tracks_groups = {}\n",
    "for group in data.tracks.columns.levels[0][1:]:\n",
    "    tracks_groups[group] = data.tracks[group]"
   ]
  },
  {
   "cell_type": "code",
   "execution_count": 54,
   "metadata": {},
   "outputs": [],
   "source": [
    "# genre is already done"
   ]
  },
  {
   "cell_type": "code",
   "execution_count": 68,
   "metadata": {},
   "outputs": [],
   "source": [
    "groups = set(group[0] for group in data.features.columns)\n",
    "\n",
    "features_groups = {group: data.features[group] for group in groups}    "
   ]
  },
  {
   "cell_type": "code",
   "execution_count": 94,
   "metadata": {},
   "outputs": [],
   "source": [
    "features_subgroups = {}\n",
    "\n",
    "for key in features_groups.keys():\n",
    "    sub_groups = set(sub_group[0] for sub_group in features_groups[key].columns)\n",
    "\n",
    "    for sub_group in sub_groups:\n",
    "        features_subgroups[key + '__' + sub_group] = features_groups[key][sub_group]\n",
    "    "
   ]
  },
  {
   "cell_type": "code",
   "execution_count": 106,
   "metadata": {},
   "outputs": [],
   "source": [
    "echonest_groups = {group: data.echonest['echonest'][group] for group in data.echonest.columns.levels[1][1:]}"
   ]
  },
  {
   "cell_type": "code",
   "execution_count": 108,
   "metadata": {},
   "outputs": [
    {
     "data": {
      "text/plain": [
       "dict_keys(['audio_features', 'metadata', 'ranks', 'social_features', 'temporal_features'])"
      ]
     },
     "execution_count": 108,
     "metadata": {},
     "output_type": "execute_result"
    }
   ],
   "source": [
    "echonest_groups.keys()"
   ]
  },
  {
   "cell_type": "code",
   "execution_count": 111,
   "metadata": {},
   "outputs": [],
   "source": [
    "segmented_dfs = {\n",
    "    'tracks': tracks_groups,\n",
    "    'genres': data.genres,\n",
    "    'features': features_subgroups,\n",
    "    'echonest': echonest_groups\n",
    "}"
   ]
  },
  {
   "cell_type": "code",
   "execution_count": 118,
   "metadata": {},
   "outputs": [],
   "source": [
    "### likely target:\n",
    "# segmented_dfs['tracks']['track']['genre_top']"
   ]
  },
  {
   "cell_type": "markdown",
   "metadata": {},
   "source": [
    "#### Save each df as csv in new folder to upload to AWS ubuntu server"
   ]
  },
  {
   "cell_type": "code",
   "execution_count": 12,
   "metadata": {},
   "outputs": [
    {
     "data": {
      "text/plain": [
       "'/home/max/Documents/data/fma_metadata'"
      ]
     },
     "execution_count": 12,
     "metadata": {},
     "output_type": "execute_result"
    }
   ],
   "source": [
    "os.getcwd()"
   ]
  },
  {
   "cell_type": "code",
   "execution_count": 15,
   "metadata": {},
   "outputs": [
    {
     "data": {
      "text/plain": [
       "['raw_echonest.csv',\n",
       " 'raw_genres.csv',\n",
       " 'not_found.pickle',\n",
       " 'features.csv',\n",
       " 'checksums',\n",
       " 'segmented',\n",
       " 'raw_tracks.csv',\n",
       " 'genres.csv',\n",
       " 'tracks.csv',\n",
       " 'README.txt',\n",
       " 'echonest.csv',\n",
       " 'raw_albums.csv',\n",
       " 'raw_artists.csv']"
      ]
     },
     "execution_count": 15,
     "metadata": {},
     "output_type": "execute_result"
    }
   ],
   "source": [
    "os.mkdir('segmented')\n",
    "os.listdir()"
   ]
  },
  {
   "cell_type": "code",
   "execution_count": 16,
   "metadata": {},
   "outputs": [],
   "source": [
    "os.chdir('segmented')"
   ]
  },
  {
   "cell_type": "code",
   "execution_count": 30,
   "metadata": {},
   "outputs": [],
   "source": [
    "# write all the segmented dataframes to csv's\n",
    "def segment2csv(d):\n",
    "    for key, val in d.items():\n",
    "        if isinstance(val, dict):\n",
    "            segment2csv(val)\n",
    "        else:\n",
    "            val.to_csv(key + '.csv')"
   ]
  },
  {
   "cell_type": "code",
   "execution_count": 29,
   "metadata": {},
   "outputs": [
    {
     "data": {
      "text/plain": [
       "False"
      ]
     },
     "execution_count": 29,
     "metadata": {},
     "output_type": "execute_result"
    }
   ],
   "source": [
    "isinstance(data.segmented_dfs['genres'], dict)"
   ]
  },
  {
   "cell_type": "code",
   "execution_count": 31,
   "metadata": {},
   "outputs": [],
   "source": [
    "d = data.segmented_dfs\n",
    "\n",
    "segment2csv(d)"
   ]
  },
  {
   "cell_type": "code",
   "execution_count": 25,
   "metadata": {},
   "outputs": [],
   "source": [
    "is_punk = (data.tracks.track['genre_top'] == 'Punk')\n",
    "is_folk = (data.tracks.track['genre_top'] == 'Folk')\n",
    "\n",
    "mask = (is_punk | is_folk)\n",
    "\n",
    "folkpunk = data.tracks[mask]"
   ]
  },
  {
   "cell_type": "code",
   "execution_count": 26,
   "metadata": {},
   "outputs": [
    {
     "data": {
      "text/plain": [
       "(2803, 52)"
      ]
     },
     "execution_count": 26,
     "metadata": {},
     "output_type": "execute_result"
    }
   ],
   "source": [
    "folkpunk.shape"
   ]
  },
  {
   "cell_type": "code",
   "execution_count": 27,
   "metadata": {},
   "outputs": [],
   "source": [
    "fpix = folkpunk.index #  fpix = folk punk index"
   ]
  },
  {
   "cell_type": "code",
   "execution_count": 28,
   "metadata": {},
   "outputs": [
    {
     "data": {
      "text/html": [
       "<div>\n",
       "<style scoped>\n",
       "    .dataframe tbody tr th:only-of-type {\n",
       "        vertical-align: middle;\n",
       "    }\n",
       "\n",
       "    .dataframe tbody tr th {\n",
       "        vertical-align: top;\n",
       "    }\n",
       "\n",
       "    .dataframe thead tr th {\n",
       "        text-align: left;\n",
       "    }\n",
       "\n",
       "    .dataframe thead tr:last-of-type th {\n",
       "        text-align: right;\n",
       "    }\n",
       "</style>\n",
       "<table border=\"1\" class=\"dataframe\">\n",
       "  <thead>\n",
       "    <tr>\n",
       "      <th></th>\n",
       "      <th colspan=\"10\" halign=\"left\">chroma_cens</th>\n",
       "      <th>...</th>\n",
       "      <th colspan=\"3\" halign=\"left\">tonnetz</th>\n",
       "      <th colspan=\"7\" halign=\"left\">zcr</th>\n",
       "    </tr>\n",
       "    <tr>\n",
       "      <th></th>\n",
       "      <th colspan=\"10\" halign=\"left\">kurtosis</th>\n",
       "      <th>...</th>\n",
       "      <th colspan=\"3\" halign=\"left\">std</th>\n",
       "      <th>kurtosis</th>\n",
       "      <th>max</th>\n",
       "      <th>mean</th>\n",
       "      <th>median</th>\n",
       "      <th>min</th>\n",
       "      <th>skew</th>\n",
       "      <th>std</th>\n",
       "    </tr>\n",
       "    <tr>\n",
       "      <th></th>\n",
       "      <th>01</th>\n",
       "      <th>02</th>\n",
       "      <th>03</th>\n",
       "      <th>04</th>\n",
       "      <th>05</th>\n",
       "      <th>06</th>\n",
       "      <th>07</th>\n",
       "      <th>08</th>\n",
       "      <th>09</th>\n",
       "      <th>10</th>\n",
       "      <th>...</th>\n",
       "      <th>04</th>\n",
       "      <th>05</th>\n",
       "      <th>06</th>\n",
       "      <th>01</th>\n",
       "      <th>01</th>\n",
       "      <th>01</th>\n",
       "      <th>01</th>\n",
       "      <th>01</th>\n",
       "      <th>01</th>\n",
       "      <th>01</th>\n",
       "    </tr>\n",
       "    <tr>\n",
       "      <th>track_id</th>\n",
       "      <th></th>\n",
       "      <th></th>\n",
       "      <th></th>\n",
       "      <th></th>\n",
       "      <th></th>\n",
       "      <th></th>\n",
       "      <th></th>\n",
       "      <th></th>\n",
       "      <th></th>\n",
       "      <th></th>\n",
       "      <th></th>\n",
       "      <th></th>\n",
       "      <th></th>\n",
       "      <th></th>\n",
       "      <th></th>\n",
       "      <th></th>\n",
       "      <th></th>\n",
       "      <th></th>\n",
       "      <th></th>\n",
       "      <th></th>\n",
       "      <th></th>\n",
       "    </tr>\n",
       "  </thead>\n",
       "  <tbody>\n",
       "    <tr>\n",
       "      <th>139</th>\n",
       "      <td>-0.020869</td>\n",
       "      <td>0.432330</td>\n",
       "      <td>0.331278</td>\n",
       "      <td>0.829845</td>\n",
       "      <td>2.625593</td>\n",
       "      <td>2.005660</td>\n",
       "      <td>0.907704</td>\n",
       "      <td>0.748191</td>\n",
       "      <td>1.560385</td>\n",
       "      <td>2.565748</td>\n",
       "      <td>...</td>\n",
       "      <td>0.090518</td>\n",
       "      <td>0.017428</td>\n",
       "      <td>0.021490</td>\n",
       "      <td>1.157352</td>\n",
       "      <td>0.261230</td>\n",
       "      <td>0.070760</td>\n",
       "      <td>0.066895</td>\n",
       "      <td>0.000977</td>\n",
       "      <td>0.769163</td>\n",
       "      <td>0.030017</td>\n",
       "    </tr>\n",
       "    <tr>\n",
       "      <th>140</th>\n",
       "      <td>0.533579</td>\n",
       "      <td>-0.623885</td>\n",
       "      <td>-1.086205</td>\n",
       "      <td>-1.081079</td>\n",
       "      <td>-0.765151</td>\n",
       "      <td>-0.072282</td>\n",
       "      <td>-0.882913</td>\n",
       "      <td>-0.582376</td>\n",
       "      <td>-0.884749</td>\n",
       "      <td>-0.645214</td>\n",
       "      <td>...</td>\n",
       "      <td>0.157683</td>\n",
       "      <td>0.028070</td>\n",
       "      <td>0.025946</td>\n",
       "      <td>11.052547</td>\n",
       "      <td>0.379395</td>\n",
       "      <td>0.052379</td>\n",
       "      <td>0.036621</td>\n",
       "      <td>0.001953</td>\n",
       "      <td>3.143968</td>\n",
       "      <td>0.057712</td>\n",
       "    </tr>\n",
       "    <tr>\n",
       "      <th>141</th>\n",
       "      <td>0.172898</td>\n",
       "      <td>-0.284804</td>\n",
       "      <td>-1.169662</td>\n",
       "      <td>-1.062855</td>\n",
       "      <td>-0.706868</td>\n",
       "      <td>-0.708281</td>\n",
       "      <td>-0.204884</td>\n",
       "      <td>0.023624</td>\n",
       "      <td>-0.642770</td>\n",
       "      <td>-0.786291</td>\n",
       "      <td>...</td>\n",
       "      <td>0.145994</td>\n",
       "      <td>0.024342</td>\n",
       "      <td>0.032111</td>\n",
       "      <td>32.994659</td>\n",
       "      <td>0.415527</td>\n",
       "      <td>0.040267</td>\n",
       "      <td>0.034668</td>\n",
       "      <td>0.002930</td>\n",
       "      <td>4.204097</td>\n",
       "      <td>0.028665</td>\n",
       "    </tr>\n",
       "    <tr>\n",
       "      <th>142</th>\n",
       "      <td>-0.581270</td>\n",
       "      <td>3.199484</td>\n",
       "      <td>1.298346</td>\n",
       "      <td>-0.681253</td>\n",
       "      <td>-0.935093</td>\n",
       "      <td>-0.960304</td>\n",
       "      <td>-0.748014</td>\n",
       "      <td>-0.715798</td>\n",
       "      <td>-0.905853</td>\n",
       "      <td>-0.798362</td>\n",
       "      <td>...</td>\n",
       "      <td>0.086817</td>\n",
       "      <td>0.021360</td>\n",
       "      <td>0.022975</td>\n",
       "      <td>4.865969</td>\n",
       "      <td>0.309570</td>\n",
       "      <td>0.066520</td>\n",
       "      <td>0.061035</td>\n",
       "      <td>0.001953</td>\n",
       "      <td>1.625022</td>\n",
       "      <td>0.036644</td>\n",
       "    </tr>\n",
       "    <tr>\n",
       "      <th>188</th>\n",
       "      <td>-1.223855</td>\n",
       "      <td>-1.486636</td>\n",
       "      <td>-0.915784</td>\n",
       "      <td>-1.035627</td>\n",
       "      <td>-1.376008</td>\n",
       "      <td>-0.740556</td>\n",
       "      <td>-1.232752</td>\n",
       "      <td>-0.884040</td>\n",
       "      <td>-0.817353</td>\n",
       "      <td>-1.220685</td>\n",
       "      <td>...</td>\n",
       "      <td>0.162705</td>\n",
       "      <td>0.029727</td>\n",
       "      <td>0.031392</td>\n",
       "      <td>12.255019</td>\n",
       "      <td>0.187500</td>\n",
       "      <td>0.036287</td>\n",
       "      <td>0.031738</td>\n",
       "      <td>0.000000</td>\n",
       "      <td>2.916365</td>\n",
       "      <td>0.020919</td>\n",
       "    </tr>\n",
       "  </tbody>\n",
       "</table>\n",
       "<p>5 rows × 518 columns</p>\n",
       "</div>"
      ],
      "text/plain": [
       "         chroma_cens                                                    \\\n",
       "            kurtosis                                                     \n",
       "                  01        02        03        04        05        06   \n",
       "track_id                                                                 \n",
       "139        -0.020869  0.432330  0.331278  0.829845  2.625593  2.005660   \n",
       "140         0.533579 -0.623885 -1.086205 -1.081079 -0.765151 -0.072282   \n",
       "141         0.172898 -0.284804 -1.169662 -1.062855 -0.706868 -0.708281   \n",
       "142        -0.581270  3.199484  1.298346 -0.681253 -0.935093 -0.960304   \n",
       "188        -1.223855 -1.486636 -0.915784 -1.035627 -1.376008 -0.740556   \n",
       "\n",
       "                                                    ...      tonnetz  \\\n",
       "                                                    ...          std   \n",
       "                07        08        09        10    ...           04   \n",
       "track_id                                            ...                \n",
       "139       0.907704  0.748191  1.560385  2.565748    ...     0.090518   \n",
       "140      -0.882913 -0.582376 -0.884749 -0.645214    ...     0.157683   \n",
       "141      -0.204884  0.023624 -0.642770 -0.786291    ...     0.145994   \n",
       "142      -0.748014 -0.715798 -0.905853 -0.798362    ...     0.086817   \n",
       "188      -1.232752 -0.884040 -0.817353 -1.220685    ...     0.162705   \n",
       "\n",
       "                                    zcr                                \\\n",
       "                               kurtosis       max      mean    median   \n",
       "                05        06         01        01        01        01   \n",
       "track_id                                                                \n",
       "139       0.017428  0.021490   1.157352  0.261230  0.070760  0.066895   \n",
       "140       0.028070  0.025946  11.052547  0.379395  0.052379  0.036621   \n",
       "141       0.024342  0.032111  32.994659  0.415527  0.040267  0.034668   \n",
       "142       0.021360  0.022975   4.865969  0.309570  0.066520  0.061035   \n",
       "188       0.029727  0.031392  12.255019  0.187500  0.036287  0.031738   \n",
       "\n",
       "                                        \n",
       "               min      skew       std  \n",
       "                01        01        01  \n",
       "track_id                                \n",
       "139       0.000977  0.769163  0.030017  \n",
       "140       0.001953  3.143968  0.057712  \n",
       "141       0.002930  4.204097  0.028665  \n",
       "142       0.001953  1.625022  0.036644  \n",
       "188       0.000000  2.916365  0.020919  \n",
       "\n",
       "[5 rows x 518 columns]"
      ]
     },
     "execution_count": 28,
     "metadata": {},
     "output_type": "execute_result"
    }
   ],
   "source": [
    "mask = data.features.index.isin(fpix)\n",
    "\n",
    "data.features[mask].head()"
   ]
  },
  {
   "cell_type": "code",
   "execution_count": 9,
   "metadata": {},
   "outputs": [
    {
     "data": {
      "text/html": [
       "<div>\n",
       "<style scoped>\n",
       "    .dataframe tbody tr th:only-of-type {\n",
       "        vertical-align: middle;\n",
       "    }\n",
       "\n",
       "    .dataframe tbody tr th {\n",
       "        vertical-align: top;\n",
       "    }\n",
       "\n",
       "    .dataframe thead tr th {\n",
       "        text-align: left;\n",
       "    }\n",
       "\n",
       "    .dataframe thead tr:last-of-type th {\n",
       "        text-align: right;\n",
       "    }\n",
       "</style>\n",
       "<table border=\"1\" class=\"dataframe\">\n",
       "  <thead>\n",
       "    <tr>\n",
       "      <th></th>\n",
       "      <th colspan=\"6\" halign=\"left\">kurtosis</th>\n",
       "      <th colspan=\"4\" halign=\"left\">max</th>\n",
       "      <th>...</th>\n",
       "      <th colspan=\"4\" halign=\"left\">skew</th>\n",
       "      <th colspan=\"6\" halign=\"left\">std</th>\n",
       "    </tr>\n",
       "    <tr>\n",
       "      <th></th>\n",
       "      <th>01</th>\n",
       "      <th>02</th>\n",
       "      <th>03</th>\n",
       "      <th>04</th>\n",
       "      <th>05</th>\n",
       "      <th>06</th>\n",
       "      <th>01</th>\n",
       "      <th>02</th>\n",
       "      <th>03</th>\n",
       "      <th>04</th>\n",
       "      <th>...</th>\n",
       "      <th>03</th>\n",
       "      <th>04</th>\n",
       "      <th>05</th>\n",
       "      <th>06</th>\n",
       "      <th>01</th>\n",
       "      <th>02</th>\n",
       "      <th>03</th>\n",
       "      <th>04</th>\n",
       "      <th>05</th>\n",
       "      <th>06</th>\n",
       "    </tr>\n",
       "    <tr>\n",
       "      <th>track_id</th>\n",
       "      <th></th>\n",
       "      <th></th>\n",
       "      <th></th>\n",
       "      <th></th>\n",
       "      <th></th>\n",
       "      <th></th>\n",
       "      <th></th>\n",
       "      <th></th>\n",
       "      <th></th>\n",
       "      <th></th>\n",
       "      <th></th>\n",
       "      <th></th>\n",
       "      <th></th>\n",
       "      <th></th>\n",
       "      <th></th>\n",
       "      <th></th>\n",
       "      <th></th>\n",
       "      <th></th>\n",
       "      <th></th>\n",
       "      <th></th>\n",
       "      <th></th>\n",
       "    </tr>\n",
       "  </thead>\n",
       "  <tbody>\n",
       "    <tr>\n",
       "      <th>112282</th>\n",
       "      <td>0.107922</td>\n",
       "      <td>0.418343</td>\n",
       "      <td>1.2561</td>\n",
       "      <td>0.528885</td>\n",
       "      <td>0.014112</td>\n",
       "      <td>0.883011</td>\n",
       "      <td>0.09955</td>\n",
       "      <td>0.111765</td>\n",
       "      <td>0.45056</td>\n",
       "      <td>0.330993</td>\n",
       "      <td>...</td>\n",
       "      <td>0.055679</td>\n",
       "      <td>-0.276025</td>\n",
       "      <td>0.145894</td>\n",
       "      <td>0.01764</td>\n",
       "      <td>0.025516</td>\n",
       "      <td>0.024768</td>\n",
       "      <td>0.091384</td>\n",
       "      <td>0.085488</td>\n",
       "      <td>0.020367</td>\n",
       "      <td>0.020438</td>\n",
       "    </tr>\n",
       "  </tbody>\n",
       "</table>\n",
       "<p>1 rows × 42 columns</p>\n",
       "</div>"
      ],
      "text/plain": [
       "          kurtosis                                                      max  \\\n",
       "                01        02      03        04        05        06       01   \n",
       "track_id                                                                      \n",
       "112282    0.107922  0.418343  1.2561  0.528885  0.014112  0.883011  0.09955   \n",
       "\n",
       "                                         ...         skew                      \\\n",
       "                02       03        04    ...           03        04        05   \n",
       "track_id                                 ...                                    \n",
       "112282    0.111765  0.45056  0.330993    ...     0.055679 -0.276025  0.145894   \n",
       "\n",
       "                        std                                                    \n",
       "               06        01        02        03        04        05        06  \n",
       "track_id                                                                       \n",
       "112282    0.01764  0.025516  0.024768  0.091384  0.085488  0.020367  0.020438  \n",
       "\n",
       "[1 rows x 42 columns]"
      ]
     },
     "execution_count": 9,
     "metadata": {},
     "output_type": "execute_result"
    }
   ],
   "source": [
    "data.features.tonnetz.sample()"
   ]
  },
  {
   "cell_type": "code",
   "execution_count": 102,
   "metadata": {},
   "outputs": [
    {
     "data": {
      "text/html": [
       "<div>\n",
       "<style scoped>\n",
       "    .dataframe tbody tr th:only-of-type {\n",
       "        vertical-align: middle;\n",
       "    }\n",
       "\n",
       "    .dataframe tbody tr th {\n",
       "        vertical-align: top;\n",
       "    }\n",
       "\n",
       "    .dataframe thead tr th {\n",
       "        text-align: left;\n",
       "    }\n",
       "\n",
       "    .dataframe thead tr:last-of-type th {\n",
       "        text-align: right;\n",
       "    }\n",
       "</style>\n",
       "<table border=\"1\" class=\"dataframe\">\n",
       "  <thead>\n",
       "    <tr>\n",
       "      <th></th>\n",
       "      <th colspan=\"10\" halign=\"left\">chroma_cens</th>\n",
       "      <th>...</th>\n",
       "      <th colspan=\"3\" halign=\"left\">tonnetz</th>\n",
       "      <th colspan=\"7\" halign=\"left\">zcr</th>\n",
       "    </tr>\n",
       "    <tr>\n",
       "      <th></th>\n",
       "      <th colspan=\"10\" halign=\"left\">kurtosis</th>\n",
       "      <th>...</th>\n",
       "      <th colspan=\"3\" halign=\"left\">std</th>\n",
       "      <th>kurtosis</th>\n",
       "      <th>max</th>\n",
       "      <th>mean</th>\n",
       "      <th>median</th>\n",
       "      <th>min</th>\n",
       "      <th>skew</th>\n",
       "      <th>std</th>\n",
       "    </tr>\n",
       "    <tr>\n",
       "      <th></th>\n",
       "      <th>01</th>\n",
       "      <th>02</th>\n",
       "      <th>03</th>\n",
       "      <th>04</th>\n",
       "      <th>05</th>\n",
       "      <th>06</th>\n",
       "      <th>07</th>\n",
       "      <th>08</th>\n",
       "      <th>09</th>\n",
       "      <th>10</th>\n",
       "      <th>...</th>\n",
       "      <th>04</th>\n",
       "      <th>05</th>\n",
       "      <th>06</th>\n",
       "      <th>01</th>\n",
       "      <th>01</th>\n",
       "      <th>01</th>\n",
       "      <th>01</th>\n",
       "      <th>01</th>\n",
       "      <th>01</th>\n",
       "      <th>01</th>\n",
       "    </tr>\n",
       "    <tr>\n",
       "      <th>track_id</th>\n",
       "      <th></th>\n",
       "      <th></th>\n",
       "      <th></th>\n",
       "      <th></th>\n",
       "      <th></th>\n",
       "      <th></th>\n",
       "      <th></th>\n",
       "      <th></th>\n",
       "      <th></th>\n",
       "      <th></th>\n",
       "      <th></th>\n",
       "      <th></th>\n",
       "      <th></th>\n",
       "      <th></th>\n",
       "      <th></th>\n",
       "      <th></th>\n",
       "      <th></th>\n",
       "      <th></th>\n",
       "      <th></th>\n",
       "      <th></th>\n",
       "      <th></th>\n",
       "    </tr>\n",
       "  </thead>\n",
       "  <tbody>\n",
       "    <tr>\n",
       "      <th>9554</th>\n",
       "      <td>-0.156214</td>\n",
       "      <td>-0.850736</td>\n",
       "      <td>-0.733550</td>\n",
       "      <td>-0.339820</td>\n",
       "      <td>-0.735142</td>\n",
       "      <td>-1.031866</td>\n",
       "      <td>-1.207657</td>\n",
       "      <td>1.595891</td>\n",
       "      <td>-1.051816</td>\n",
       "      <td>-0.680140</td>\n",
       "      <td>...</td>\n",
       "      <td>0.150450</td>\n",
       "      <td>0.024482</td>\n",
       "      <td>0.026694</td>\n",
       "      <td>33.624317</td>\n",
       "      <td>0.404297</td>\n",
       "      <td>0.038651</td>\n",
       "      <td>0.037109</td>\n",
       "      <td>0.000000</td>\n",
       "      <td>3.900559</td>\n",
       "      <td>0.027025</td>\n",
       "    </tr>\n",
       "    <tr>\n",
       "      <th>9555</th>\n",
       "      <td>-0.669046</td>\n",
       "      <td>-1.168807</td>\n",
       "      <td>-0.679099</td>\n",
       "      <td>-0.875675</td>\n",
       "      <td>0.457600</td>\n",
       "      <td>-0.051060</td>\n",
       "      <td>-0.233837</td>\n",
       "      <td>0.094572</td>\n",
       "      <td>-0.411417</td>\n",
       "      <td>-0.963449</td>\n",
       "      <td>...</td>\n",
       "      <td>0.109007</td>\n",
       "      <td>0.021616</td>\n",
       "      <td>0.021401</td>\n",
       "      <td>61.777828</td>\n",
       "      <td>0.545898</td>\n",
       "      <td>0.054977</td>\n",
       "      <td>0.047852</td>\n",
       "      <td>0.004883</td>\n",
       "      <td>6.913949</td>\n",
       "      <td>0.047982</td>\n",
       "    </tr>\n",
       "    <tr>\n",
       "      <th>9556</th>\n",
       "      <td>1.594526</td>\n",
       "      <td>-1.023309</td>\n",
       "      <td>-1.251871</td>\n",
       "      <td>-1.002714</td>\n",
       "      <td>-0.355053</td>\n",
       "      <td>-0.853487</td>\n",
       "      <td>-0.894380</td>\n",
       "      <td>0.242823</td>\n",
       "      <td>-0.908156</td>\n",
       "      <td>-0.827719</td>\n",
       "      <td>...</td>\n",
       "      <td>0.140481</td>\n",
       "      <td>0.021547</td>\n",
       "      <td>0.023205</td>\n",
       "      <td>44.809021</td>\n",
       "      <td>0.557617</td>\n",
       "      <td>0.053423</td>\n",
       "      <td>0.046387</td>\n",
       "      <td>0.002930</td>\n",
       "      <td>6.209476</td>\n",
       "      <td>0.060019</td>\n",
       "    </tr>\n",
       "    <tr>\n",
       "      <th>9557</th>\n",
       "      <td>-1.118935</td>\n",
       "      <td>-0.869945</td>\n",
       "      <td>-0.543931</td>\n",
       "      <td>-0.470382</td>\n",
       "      <td>-0.533076</td>\n",
       "      <td>-1.098251</td>\n",
       "      <td>-0.614707</td>\n",
       "      <td>-1.321757</td>\n",
       "      <td>-1.272636</td>\n",
       "      <td>-1.029226</td>\n",
       "      <td>...</td>\n",
       "      <td>0.189529</td>\n",
       "      <td>0.020813</td>\n",
       "      <td>0.021121</td>\n",
       "      <td>4.537343</td>\n",
       "      <td>0.234863</td>\n",
       "      <td>0.030243</td>\n",
       "      <td>0.027344</td>\n",
       "      <td>0.002441</td>\n",
       "      <td>1.229841</td>\n",
       "      <td>0.019639</td>\n",
       "    </tr>\n",
       "    <tr>\n",
       "      <th>9558</th>\n",
       "      <td>-1.220509</td>\n",
       "      <td>-1.119190</td>\n",
       "      <td>-0.643716</td>\n",
       "      <td>-0.279869</td>\n",
       "      <td>0.855649</td>\n",
       "      <td>-0.498396</td>\n",
       "      <td>-0.437475</td>\n",
       "      <td>-0.650538</td>\n",
       "      <td>-0.023109</td>\n",
       "      <td>-0.103927</td>\n",
       "      <td>...</td>\n",
       "      <td>0.136201</td>\n",
       "      <td>0.018579</td>\n",
       "      <td>0.021693</td>\n",
       "      <td>32.297672</td>\n",
       "      <td>0.284668</td>\n",
       "      <td>0.027547</td>\n",
       "      <td>0.023926</td>\n",
       "      <td>0.007812</td>\n",
       "      <td>4.630627</td>\n",
       "      <td>0.017431</td>\n",
       "    </tr>\n",
       "  </tbody>\n",
       "</table>\n",
       "<p>5 rows × 518 columns</p>\n",
       "</div>"
      ],
      "text/plain": [
       "         chroma_cens                                                    \\\n",
       "            kurtosis                                                     \n",
       "                  01        02        03        04        05        06   \n",
       "track_id                                                                 \n",
       "9554       -0.156214 -0.850736 -0.733550 -0.339820 -0.735142 -1.031866   \n",
       "9555       -0.669046 -1.168807 -0.679099 -0.875675  0.457600 -0.051060   \n",
       "9556        1.594526 -1.023309 -1.251871 -1.002714 -0.355053 -0.853487   \n",
       "9557       -1.118935 -0.869945 -0.543931 -0.470382 -0.533076 -1.098251   \n",
       "9558       -1.220509 -1.119190 -0.643716 -0.279869  0.855649 -0.498396   \n",
       "\n",
       "                                                    ...      tonnetz  \\\n",
       "                                                    ...          std   \n",
       "                07        08        09        10    ...           04   \n",
       "track_id                                            ...                \n",
       "9554     -1.207657  1.595891 -1.051816 -0.680140    ...     0.150450   \n",
       "9555     -0.233837  0.094572 -0.411417 -0.963449    ...     0.109007   \n",
       "9556     -0.894380  0.242823 -0.908156 -0.827719    ...     0.140481   \n",
       "9557     -0.614707 -1.321757 -1.272636 -1.029226    ...     0.189529   \n",
       "9558     -0.437475 -0.650538 -0.023109 -0.103927    ...     0.136201   \n",
       "\n",
       "                                    zcr                                \\\n",
       "                               kurtosis       max      mean    median   \n",
       "                05        06         01        01        01        01   \n",
       "track_id                                                                \n",
       "9554      0.024482  0.026694  33.624317  0.404297  0.038651  0.037109   \n",
       "9555      0.021616  0.021401  61.777828  0.545898  0.054977  0.047852   \n",
       "9556      0.021547  0.023205  44.809021  0.557617  0.053423  0.046387   \n",
       "9557      0.020813  0.021121   4.537343  0.234863  0.030243  0.027344   \n",
       "9558      0.018579  0.021693  32.297672  0.284668  0.027547  0.023926   \n",
       "\n",
       "                                        \n",
       "               min      skew       std  \n",
       "                01        01        01  \n",
       "track_id                                \n",
       "9554      0.000000  3.900559  0.027025  \n",
       "9555      0.004883  6.913949  0.047982  \n",
       "9556      0.002930  6.209476  0.060019  \n",
       "9557      0.002441  1.229841  0.019639  \n",
       "9558      0.007812  4.630627  0.017431  \n",
       "\n",
       "[5 rows x 518 columns]"
      ]
     },
     "execution_count": 102,
     "metadata": {},
     "output_type": "execute_result"
    }
   ],
   "source": [
    "data.features.tail()"
   ]
  },
  {
   "cell_type": "code",
   "execution_count": 128,
   "metadata": {},
   "outputs": [
    {
     "data": {
      "text/plain": [
       "(106574, 52)"
      ]
     },
     "execution_count": 128,
     "metadata": {},
     "output_type": "execute_result"
    }
   ],
   "source": [
    "data.tracks.shape"
   ]
  },
  {
   "cell_type": "code",
   "execution_count": 132,
   "metadata": {},
   "outputs": [
    {
     "data": {
      "text/plain": [
       "(106574, 17)"
      ]
     },
     "execution_count": 132,
     "metadata": {},
     "output_type": "execute_result"
    }
   ],
   "source": [
    "segmented_dfs['tracks']['artist'].shape"
   ]
  },
  {
   "cell_type": "code",
   "execution_count": null,
   "metadata": {},
   "outputs": [],
   "source": []
  }
 ],
 "metadata": {
  "kernelspec": {
   "display_name": "Python 3",
   "language": "python",
   "name": "python3"
  },
  "language_info": {
   "codemirror_mode": {
    "name": "ipython",
    "version": 3
   },
   "file_extension": ".py",
   "mimetype": "text/x-python",
   "name": "python",
   "nbconvert_exporter": "python",
   "pygments_lexer": "ipython3",
   "version": "3.7.1"
  }
 },
 "nbformat": 4,
 "nbformat_minor": 2
}
