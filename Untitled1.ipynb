{
 "cells": [
  {
   "cell_type": "code",
   "execution_count": 1,
   "metadata": {},
   "outputs": [
    {
     "ename": "ModuleNotFoundError",
     "evalue": "No module named 'freemusicarchive'",
     "output_type": "error",
     "traceback": [
      "\u001b[0;31m---------------------------------------------------------------------------\u001b[0m",
      "\u001b[0;31mModuleNotFoundError\u001b[0m                       Traceback (most recent call last)",
      "\u001b[0;32m<ipython-input-1-990c72530d82>\u001b[0m in \u001b[0;36m<module>\u001b[0;34m\u001b[0m\n\u001b[0;32m----> 1\u001b[0;31m \u001b[0;32mimport\u001b[0m \u001b[0mfreemusicarchive\u001b[0m\u001b[0;34m\u001b[0m\u001b[0;34m\u001b[0m\u001b[0m\n\u001b[0m",
      "\u001b[0;31mModuleNotFoundError\u001b[0m: No module named 'freemusicarchive'"
     ]
    }
   ],
   "source": [
    "import freemusicarchive"
   ]
  },
  {
   "cell_type": "code",
   "execution_count": 2,
   "metadata": {},
   "outputs": [
    {
     "name": "stdout",
     "output_type": "stream",
     "text": [
      "freemusicarchive (0.0.0)  - Free Music Archive\n"
     ]
    }
   ],
   "source": [
    "!pip search freemusicarchive"
   ]
  },
  {
   "cell_type": "code",
   "execution_count": 3,
   "metadata": {},
   "outputs": [
    {
     "name": "stdout",
     "output_type": "stream",
     "text": [
      "Requirement already satisfied: Free in /anaconda3/lib/python3.7/site-packages (0.0.2)\n",
      "Requirement already satisfied: Music in /anaconda3/lib/python3.7/site-packages (0.1b0)\n",
      "Requirement already satisfied: Archive in /anaconda3/lib/python3.7/site-packages (0.3)\n",
      "Requirement already satisfied: keras>=2.0.6<2.1 in /anaconda3/lib/python3.7/site-packages (from Free) (2.2.4)\n",
      "Requirement already satisfied: seaborn>=0.8<0.9 in /anaconda3/lib/python3.7/site-packages (from Free) (0.9.0)\n",
      "Requirement already satisfied: django>=1.11.0<1.12 in /anaconda3/lib/python3.7/site-packages (from Free) (2.2a1)\n",
      "Requirement already satisfied: pandas>=0.20.3<0.21 in /anaconda3/lib/python3.7/site-packages (from Free) (0.23.4)\n",
      "Requirement already satisfied: jupyter>=1.0.0<1.1.0 in /anaconda3/lib/python3.7/site-packages (from Free) (1.0.0)\n",
      "Requirement already satisfied: pytesseract>=0.1.7<0.2 in /anaconda3/lib/python3.7/site-packages (from Free) (0.2.6)\n",
      "Requirement already satisfied: scikit-learn>=0.19<0.20 in /anaconda3/lib/python3.7/site-packages (from Free) (0.20.1)\n",
      "Requirement already satisfied: plotly>=2.0.12<2.1.0 in /anaconda3/lib/python3.7/site-packages (from Free) (3.5.0)\n",
      "Requirement already satisfied: matplotlib>=2.0.2<2.1 in /anaconda3/lib/python3.7/site-packages (from Free) (3.0.2)\n",
      "Requirement already satisfied: colorama in /anaconda3/lib/python3.7/site-packages (from Music) (0.4.1)\n",
      "Requirement already satisfied: termcolor in /anaconda3/lib/python3.7/site-packages (from Music) (1.1.0)\n",
      "Requirement already satisfied: numpy in /anaconda3/lib/python3.7/site-packages (from Music) (1.15.4)\n",
      "Requirement already satisfied: sympy in /anaconda3/lib/python3.7/site-packages (from Music) (1.3)\n",
      "Requirement already satisfied: scipy in /anaconda3/lib/python3.7/site-packages (from Music) (1.1.0)\n",
      "Requirement already satisfied: six>=1.9.0 in /anaconda3/lib/python3.7/site-packages (from keras>=2.0.6<2.1->Free) (1.12.0)\n",
      "Requirement already satisfied: keras-applications>=1.0.6 in /anaconda3/lib/python3.7/site-packages (from keras>=2.0.6<2.1->Free) (1.0.7)\n",
      "Requirement already satisfied: h5py in /anaconda3/lib/python3.7/site-packages (from keras>=2.0.6<2.1->Free) (2.8.0)\n",
      "Requirement already satisfied: pyyaml in /anaconda3/lib/python3.7/site-packages (from keras>=2.0.6<2.1->Free) (3.13)\n",
      "Requirement already satisfied: keras-preprocessing>=1.0.5 in /anaconda3/lib/python3.7/site-packages (from keras>=2.0.6<2.1->Free) (1.0.9)\n",
      "Requirement already satisfied: sqlparse in /anaconda3/lib/python3.7/site-packages (from django>=1.11.0<1.12->Free) (0.2.4)\n",
      "Requirement already satisfied: pytz in /anaconda3/lib/python3.7/site-packages (from django>=1.11.0<1.12->Free) (2018.7)\n",
      "Requirement already satisfied: python-dateutil>=2.5.0 in /anaconda3/lib/python3.7/site-packages (from pandas>=0.20.3<0.21->Free) (2.7.5)\n",
      "Requirement already satisfied: jupyter-console in /anaconda3/lib/python3.7/site-packages (from jupyter>=1.0.0<1.1.0->Free) (6.0.0)\n",
      "Requirement already satisfied: nbconvert in /anaconda3/lib/python3.7/site-packages (from jupyter>=1.0.0<1.1.0->Free) (5.4.0)\n",
      "Requirement already satisfied: ipykernel in /anaconda3/lib/python3.7/site-packages (from jupyter>=1.0.0<1.1.0->Free) (5.1.0)\n",
      "Requirement already satisfied: ipywidgets in /anaconda3/lib/python3.7/site-packages (from jupyter>=1.0.0<1.1.0->Free) (7.4.2)\n",
      "Requirement already satisfied: notebook in /anaconda3/lib/python3.7/site-packages (from jupyter>=1.0.0<1.1.0->Free) (5.7.4)\n",
      "Requirement already satisfied: qtconsole in /anaconda3/lib/python3.7/site-packages (from jupyter>=1.0.0<1.1.0->Free) (4.4.3)\n",
      "Requirement already satisfied: Pillow in /anaconda3/lib/python3.7/site-packages (from pytesseract>=0.1.7<0.2->Free) (5.3.0)\n",
      "Requirement already satisfied: decorator>=4.0.6 in /anaconda3/lib/python3.7/site-packages (from plotly>=2.0.12<2.1.0->Free) (4.3.0)\n",
      "Requirement already satisfied: nbformat>=4.2 in /anaconda3/lib/python3.7/site-packages (from plotly>=2.0.12<2.1.0->Free) (4.4.0)\n",
      "Requirement already satisfied: requests in /anaconda3/lib/python3.7/site-packages (from plotly>=2.0.12<2.1.0->Free) (2.21.0)\n",
      "Requirement already satisfied: retrying>=1.3.3 in /anaconda3/lib/python3.7/site-packages (from plotly>=2.0.12<2.1.0->Free) (1.3.3)\n",
      "Requirement already satisfied: cycler>=0.10 in /anaconda3/lib/python3.7/site-packages (from matplotlib>=2.0.2<2.1->Free) (0.10.0)\n",
      "Requirement already satisfied: kiwisolver>=1.0.1 in /anaconda3/lib/python3.7/site-packages (from matplotlib>=2.0.2<2.1->Free) (1.0.1)\n",
      "Requirement already satisfied: pyparsing!=2.0.4,!=2.1.2,!=2.1.6,>=2.0.1 in /anaconda3/lib/python3.7/site-packages (from matplotlib>=2.0.2<2.1->Free) (2.3.0)\n",
      "Requirement already satisfied: jupyter_client in /anaconda3/lib/python3.7/site-packages (from jupyter-console->jupyter>=1.0.0<1.1.0->Free) (5.2.4)\n",
      "Requirement already satisfied: ipython in /anaconda3/lib/python3.7/site-packages (from jupyter-console->jupyter>=1.0.0<1.1.0->Free) (7.2.0)\n",
      "Requirement already satisfied: prompt_toolkit<2.1.0,>=2.0.0 in /anaconda3/lib/python3.7/site-packages (from jupyter-console->jupyter>=1.0.0<1.1.0->Free) (2.0.7)\n",
      "Requirement already satisfied: pygments in /anaconda3/lib/python3.7/site-packages (from jupyter-console->jupyter>=1.0.0<1.1.0->Free) (2.3.1)\n",
      "Requirement already satisfied: mistune>=0.8.1 in /anaconda3/lib/python3.7/site-packages (from nbconvert->jupyter>=1.0.0<1.1.0->Free) (0.8.4)\n",
      "Requirement already satisfied: jinja2 in /anaconda3/lib/python3.7/site-packages (from nbconvert->jupyter>=1.0.0<1.1.0->Free) (2.10)\n",
      "Requirement already satisfied: traitlets>=4.2 in /anaconda3/lib/python3.7/site-packages (from nbconvert->jupyter>=1.0.0<1.1.0->Free) (4.3.2)\n",
      "Requirement already satisfied: jupyter_core in /anaconda3/lib/python3.7/site-packages (from nbconvert->jupyter>=1.0.0<1.1.0->Free) (4.4.0)\n",
      "Requirement already satisfied: entrypoints>=0.2.2 in /anaconda3/lib/python3.7/site-packages (from nbconvert->jupyter>=1.0.0<1.1.0->Free) (0.2.3)\n",
      "Requirement already satisfied: bleach in /anaconda3/lib/python3.7/site-packages (from nbconvert->jupyter>=1.0.0<1.1.0->Free) (3.0.2)\n",
      "Requirement already satisfied: pandocfilters>=1.4.1 in /anaconda3/lib/python3.7/site-packages (from nbconvert->jupyter>=1.0.0<1.1.0->Free) (1.4.2)\n",
      "Requirement already satisfied: testpath in /anaconda3/lib/python3.7/site-packages (from nbconvert->jupyter>=1.0.0<1.1.0->Free) (0.4.2)\n",
      "Requirement already satisfied: defusedxml in /anaconda3/lib/python3.7/site-packages (from nbconvert->jupyter>=1.0.0<1.1.0->Free) (0.5.0)\n",
      "Requirement already satisfied: tornado>=4.2 in /anaconda3/lib/python3.7/site-packages (from ipykernel->jupyter>=1.0.0<1.1.0->Free) (5.1.1)\n",
      "Requirement already satisfied: widgetsnbextension~=3.4.0 in /anaconda3/lib/python3.7/site-packages (from ipywidgets->jupyter>=1.0.0<1.1.0->Free) (3.4.2)\n",
      "Requirement already satisfied: Send2Trash in /anaconda3/lib/python3.7/site-packages (from notebook->jupyter>=1.0.0<1.1.0->Free) (1.5.0)\n",
      "Requirement already satisfied: prometheus-client in /anaconda3/lib/python3.7/site-packages (from notebook->jupyter>=1.0.0<1.1.0->Free) (0.5.0)\n",
      "Requirement already satisfied: terminado>=0.8.1 in /anaconda3/lib/python3.7/site-packages (from notebook->jupyter>=1.0.0<1.1.0->Free) (0.8.1)\n",
      "Requirement already satisfied: ipython-genutils in /anaconda3/lib/python3.7/site-packages (from notebook->jupyter>=1.0.0<1.1.0->Free) (0.2.0)\n",
      "Requirement already satisfied: pyzmq>=17 in /anaconda3/lib/python3.7/site-packages (from notebook->jupyter>=1.0.0<1.1.0->Free) (17.1.2)\n",
      "Requirement already satisfied: jsonschema!=2.5.0,>=2.4 in /anaconda3/lib/python3.7/site-packages (from nbformat>=4.2->plotly>=2.0.12<2.1.0->Free) (2.6.0)\n",
      "Requirement already satisfied: chardet<3.1.0,>=3.0.2 in /anaconda3/lib/python3.7/site-packages (from requests->plotly>=2.0.12<2.1.0->Free) (3.0.4)\n",
      "Requirement already satisfied: urllib3<1.25,>=1.21.1 in /anaconda3/lib/python3.7/site-packages (from requests->plotly>=2.0.12<2.1.0->Free) (1.24.1)\n",
      "Requirement already satisfied: certifi>=2017.4.17 in /anaconda3/lib/python3.7/site-packages (from requests->plotly>=2.0.12<2.1.0->Free) (2018.11.29)\n",
      "Requirement already satisfied: idna<2.9,>=2.5 in /anaconda3/lib/python3.7/site-packages (from requests->plotly>=2.0.12<2.1.0->Free) (2.8)\n",
      "Requirement already satisfied: setuptools in /anaconda3/lib/python3.7/site-packages (from kiwisolver>=1.0.1->matplotlib>=2.0.2<2.1->Free) (40.6.3)\n",
      "Requirement already satisfied: pickleshare in /anaconda3/lib/python3.7/site-packages (from ipython->jupyter-console->jupyter>=1.0.0<1.1.0->Free) (0.7.5)\n",
      "Requirement already satisfied: jedi>=0.10 in /anaconda3/lib/python3.7/site-packages (from ipython->jupyter-console->jupyter>=1.0.0<1.1.0->Free) (0.13.2)\n",
      "Requirement already satisfied: pexpect; sys_platform != \"win32\" in /anaconda3/lib/python3.7/site-packages (from ipython->jupyter-console->jupyter>=1.0.0<1.1.0->Free) (4.6.0)\n",
      "Requirement already satisfied: appnope; sys_platform == \"darwin\" in /anaconda3/lib/python3.7/site-packages (from ipython->jupyter-console->jupyter>=1.0.0<1.1.0->Free) (0.1.0)\n",
      "Requirement already satisfied: backcall in /anaconda3/lib/python3.7/site-packages (from ipython->jupyter-console->jupyter>=1.0.0<1.1.0->Free) (0.1.0)\n",
      "Requirement already satisfied: wcwidth in /anaconda3/lib/python3.7/site-packages (from prompt_toolkit<2.1.0,>=2.0.0->jupyter-console->jupyter>=1.0.0<1.1.0->Free) (0.1.7)\n",
      "Requirement already satisfied: MarkupSafe>=0.23 in /anaconda3/lib/python3.7/site-packages (from jinja2->nbconvert->jupyter>=1.0.0<1.1.0->Free) (1.1.0)\n",
      "Requirement already satisfied: webencodings in /anaconda3/lib/python3.7/site-packages (from bleach->nbconvert->jupyter>=1.0.0<1.1.0->Free) (0.5.1)\n",
      "Requirement already satisfied: parso>=0.3.0 in /anaconda3/lib/python3.7/site-packages (from jedi>=0.10->ipython->jupyter-console->jupyter>=1.0.0<1.1.0->Free) (0.3.1)\n",
      "Requirement already satisfied: ptyprocess>=0.5 in /anaconda3/lib/python3.7/site-packages (from pexpect; sys_platform != \"win32\"->ipython->jupyter-console->jupyter>=1.0.0<1.1.0->Free) (0.6.0)\n"
     ]
    }
   ],
   "source": [
    "!pip install Free Music Archive"
   ]
  },
  {
   "cell_type": "code",
   "execution_count": null,
   "metadata": {},
   "outputs": [],
   "source": []
  }
 ],
 "metadata": {
  "kernelspec": {
   "display_name": "Python 3",
   "language": "python",
   "name": "python3"
  },
  "language_info": {
   "codemirror_mode": {
    "name": "ipython",
    "version": 3
   },
   "file_extension": ".py",
   "mimetype": "text/x-python",
   "name": "python",
   "nbconvert_exporter": "python",
   "pygments_lexer": "ipython3",
   "version": "3.7.1"
  }
 },
 "nbformat": 4,
 "nbformat_minor": 2
}
